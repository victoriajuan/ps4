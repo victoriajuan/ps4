{
 "cells": [
  {
   "cell_type": "markdown",
   "metadata": {
    "hideCode": false,
    "hidePrompt": false
   },
   "source": [
    "# Setup Notebook"
   ]
  },
  {
   "cell_type": "code",
   "execution_count": 437,
   "metadata": {
    "hideCode": false,
    "hidePrompt": false
   },
   "outputs": [],
   "source": [
    "import IPython\n",
    "import numpy as np\n",
    "import pandas as pd\n",
    "import matplotlib\n",
    "from sklearn.feature_extraction.text import TfidfVectorizer\n",
    "from sklearn.model_selection import train_test_split\n",
    "from sklearn.metrics import accuracy_score\n",
    "\n",
    "from sklearn.naive_bayes import MultinomialNB\n",
    "from sklearn.ensemble import RandomForestClassifier\n",
    "from sklearn.linear_model import LogisticRegression\n",
    "\n",
    "from sklearn.metrics import auc, roc_auc_score, roc_curve\n",
    "from sklearn.metrics import confusion_matrix\n",
    "from sklearn.metrics import precision_score\n",
    "\n",
    "import matplotlib.pyplot as plt\n",
    "import random"
   ]
  },
  {
   "cell_type": "markdown",
   "metadata": {
    "hideCode": false,
    "hidePrompt": false
   },
   "source": [
    "# Data Preparation"
   ]
  },
  {
   "cell_type": "code",
   "execution_count": 438,
   "metadata": {
    "hideCode": false,
    "hidePrompt": false
   },
   "outputs": [],
   "source": [
    "msg_df = pd.read_csv('spam.csv', encoding='cp1252')\n",
    "msg_df = msg_df.drop(msg_df.columns[[2, 3, 4]], axis=1)"
   ]
  },
  {
   "cell_type": "code",
   "execution_count": 439,
   "metadata": {
    "hideCode": false,
    "hidePrompt": false
   },
   "outputs": [
    {
     "data": {
      "text/plain": [
       "(5572, 2)"
      ]
     },
     "execution_count": 439,
     "metadata": {},
     "output_type": "execute_result"
    }
   ],
   "source": [
    "msg_df.head()\n",
    "msg_df.shape"
   ]
  },
  {
   "cell_type": "code",
   "execution_count": 440,
   "metadata": {
    "hideCode": false,
    "hidePrompt": false
   },
   "outputs": [],
   "source": [
    "# converting label to 0s and 1s \n",
    "for index, row in msg_df.iterrows():\n",
    "        if row[\"v1\"] == \"ham\":\n",
    "            row[\"v1\"] = 0\n",
    "        else:\n",
    "            row[\"v1\"] = 1"
   ]
  },
  {
   "cell_type": "code",
   "execution_count": 441,
   "metadata": {
    "hideCode": false,
    "hidePrompt": false
   },
   "outputs": [
    {
     "data": {
      "text/html": [
       "<div>\n",
       "<style scoped>\n",
       "    .dataframe tbody tr th:only-of-type {\n",
       "        vertical-align: middle;\n",
       "    }\n",
       "\n",
       "    .dataframe tbody tr th {\n",
       "        vertical-align: top;\n",
       "    }\n",
       "\n",
       "    .dataframe thead th {\n",
       "        text-align: right;\n",
       "    }\n",
       "</style>\n",
       "<table border=\"1\" class=\"dataframe\">\n",
       "  <thead>\n",
       "    <tr style=\"text-align: right;\">\n",
       "      <th></th>\n",
       "      <th>v1</th>\n",
       "      <th>v2</th>\n",
       "    </tr>\n",
       "  </thead>\n",
       "  <tbody>\n",
       "    <tr>\n",
       "      <th>0</th>\n",
       "      <td>0</td>\n",
       "      <td>Go until jurong point, crazy.. Available only ...</td>\n",
       "    </tr>\n",
       "    <tr>\n",
       "      <th>1</th>\n",
       "      <td>0</td>\n",
       "      <td>Ok lar... Joking wif u oni...</td>\n",
       "    </tr>\n",
       "    <tr>\n",
       "      <th>2</th>\n",
       "      <td>1</td>\n",
       "      <td>Free entry in 2 a wkly comp to win FA Cup fina...</td>\n",
       "    </tr>\n",
       "    <tr>\n",
       "      <th>3</th>\n",
       "      <td>0</td>\n",
       "      <td>U dun say so early hor... U c already then say...</td>\n",
       "    </tr>\n",
       "    <tr>\n",
       "      <th>4</th>\n",
       "      <td>0</td>\n",
       "      <td>Nah I don't think he goes to usf, he lives aro...</td>\n",
       "    </tr>\n",
       "  </tbody>\n",
       "</table>\n",
       "</div>"
      ],
      "text/plain": [
       "  v1                                                 v2\n",
       "0  0  Go until jurong point, crazy.. Available only ...\n",
       "1  0                      Ok lar... Joking wif u oni...\n",
       "2  1  Free entry in 2 a wkly comp to win FA Cup fina...\n",
       "3  0  U dun say so early hor... U c already then say...\n",
       "4  0  Nah I don't think he goes to usf, he lives aro..."
      ]
     },
     "execution_count": 441,
     "metadata": {},
     "output_type": "execute_result"
    }
   ],
   "source": [
    "msg_df.head()"
   ]
  },
  {
   "cell_type": "code",
   "execution_count": 443,
   "metadata": {
    "hideCode": false,
    "hidePrompt": false
   },
   "outputs": [],
   "source": [
    "# split data into feature and labels\n",
    "label = msg_df['v1']\n",
    "feature = msg_df['v2']"
   ]
  },
  {
   "cell_type": "code",
   "execution_count": 444,
   "metadata": {
    "hideCode": false,
    "hidePrompt": false
   },
   "outputs": [],
   "source": [
    "# split the data into training and testing (30% split)\n",
    "train_feature, test_feature, train_label, test_label = train_test_split(feature, label, test_size = 0.3)\n",
    "\n",
    "# uses TF-IDF to identify the features we will be using\n",
    "cv = TfidfVectorizer(min_df = 1, stop_words=\"english\")\n",
    "train_feat_cv = cv.fit_transform(train_feature).toarray()\n",
    "train_label = train_label.astype('int')\n",
    "\n",
    "test_feat_cv = cv.transform(test_feature).toarray()\n",
    "test_label = test_label.astype('int')"
   ]
  },
  {
   "cell_type": "markdown",
   "metadata": {
    "hideCode": false,
    "hidePrompt": false
   },
   "source": [
    "# Create a Model Using Gaussian Naives Bayes Classifier"
   ]
  },
  {
   "cell_type": "code",
   "execution_count": 445,
   "metadata": {
    "hideCode": false,
    "hidePrompt": false
   },
   "outputs": [],
   "source": [
    "mnb = MultinomialNB()\n",
    "\n",
    "mnb.fit(train_feat_cv, train_label)\n",
    "mnb_predictions = mnb.predict(test_feat_cv)\n",
    "mnb_pred_proba = mnb.predict_proba(test_feat_cv)[:, 1]"
   ]
  },
  {
   "cell_type": "code",
   "execution_count": 446,
   "metadata": {
    "hideCode": false,
    "hidePrompt": false
   },
   "outputs": [
    {
     "data": {
      "image/png": "[encoded data removed]",
      "text/plain": [
       "<matplotlib.figure.Figure at 0x1156052b0>"
      ]
     },
     "metadata": {},
     "output_type": "display_data"
    }
   ],
   "source": [
    "mnb_fpr, mnb_tpr, mnb_thresholds = roc_curve(test_label, mnb_pred_proba)\n",
    "plt.plot(mnb_fpr, mnb_tpr)\n",
    "plt.plot([0,1],[0,1],'r--')\n",
    "plt.xlim([-0.1,1.2])\n",
    "plt.ylim([-0.1,1.2])\n",
    "plt.ylabel('True Positive Rate')\n",
    "plt.xlabel('False Positive Rate')\n",
    "plt.show()"
   ]
  },
  {
   "cell_type": "code",
   "execution_count": 447,
   "metadata": {
    "hideCode": false,
    "hidePrompt": false
   },
   "outputs": [
    {
     "name": "stdout",
     "output_type": "stream",
     "text": [
      "AUC Score: 0.9815253831417625\n"
     ]
    }
   ],
   "source": [
    "print('AUC Score:' , roc_auc_score(test_label, mnb_pred_proba))"
   ]
  },
  {
   "cell_type": "code",
   "execution_count": 448,
   "metadata": {},
   "outputs": [
    {
     "data": {
      "text/plain": [
       "0.9677033492822966"
      ]
     },
     "execution_count": 448,
     "metadata": {},
     "output_type": "execute_result"
    }
   ],
   "source": [
    "accuracy_score(test_label, mnb_predictions)"
   ]
  },
  {
   "cell_type": "code",
   "execution_count": 449,
   "metadata": {},
   "outputs": [
    {
     "data": {
      "image/png": "[encoded data removed]",
      "text/plain": [
       "<matplotlib.figure.Figure at 0x1151f8400>"
      ]
     },
     "metadata": {},
     "output_type": "display_data"
    }
   ],
   "source": [
    "mnb_cm = confusion_matrix(test_label, mnb_predictions)\n",
    "\n",
    "plt.matshow(mnb_cm, cmap='Pastel2')\n",
    "\n",
    "i = 0\n",
    "j = 0\n",
    "for i in range(gnb_cm.shape[0]):\n",
    "    for j in range(mnb_cm.shape[1]):\n",
    "        plt.text(i, j, mnb_cm[j][i])\n",
    "\n",
    "plt.title('Gausian NB Confusion Matrix', y=1.13)\n",
    "\n",
    "plt.colorbar()\n",
    "plt.ylabel('True label')\n",
    "plt.xlabel('Predicted label')\n",
    "plt.show()    "
   ]
  },
  {
   "cell_type": "code",
   "execution_count": 450,
   "metadata": {},
   "outputs": [
    {
     "name": "stdout",
     "output_type": "stream",
     "text": [
      "True Positive 178\n",
      "True Negative 1440\n",
      "False Positive 0\n",
      "False Negative 54\n",
      "MNB Precision: 1.0\n",
      "MNB Specificity: 1.0\n"
     ]
    }
   ],
   "source": [
    "mnb_TP = mnb_cm[1, 1]\n",
    "mnb_TN = mnb_cm[0, 0]\n",
    "mnb_FP = mnb_cm[0, 1]\n",
    "mnb_FN = mnb_cm[1, 0]\n",
    "\n",
    "print('True Positive', mnb_TP)\n",
    "print('True Negative', mnb_TN)\n",
    "print('False Positive', mnb_FP)\n",
    "print('False Negative', mnb_FN)\n",
    "\n",
    "print(\"MNB Precision:\", precision_score(test_label, mnb_predictions))\n",
    "\n",
    "mnb_specificity = mnb_TN / float(mnb_TN + mnb_FP)\n",
    "print(\"MNB Specificity:\", mnb_specificity)"
   ]
  },
  {
   "cell_type": "markdown",
   "metadata": {
    "hideCode": false,
    "hidePrompt": false
   },
   "source": [
    "# Create a Model Using Random Forests"
   ]
  },
  {
   "cell_type": "code",
   "execution_count": 451,
   "metadata": {
    "hideCode": false,
    "hidePrompt": false
   },
   "outputs": [],
   "source": [
    "rf = RandomForestClassifier()\n",
    "\n",
    "rf.fit(train_feat_cv, train_label)\n",
    "rf_predictions = rf.predict(test_feat_cv)\n",
    "rf_pred_proba = rf.predict_proba(test_feat_cv)[:, 1]"
   ]
  },
  {
   "cell_type": "code",
   "execution_count": 452,
   "metadata": {},
   "outputs": [
    {
     "data": {
      "image/png": "[encoded data removed]",
      "text/plain": [
       "<matplotlib.figure.Figure at 0x115ba51d0>"
      ]
     },
     "metadata": {},
     "output_type": "display_data"
    }
   ],
   "source": [
    "rf_fpr, rf_tpr, rf_thresholds = roc_curve(test_label, rf_pred_proba)\n",
    "plt.plot(rf_fpr, rf_tpr)\n",
    "plt.plot([0,1],[0,1],'r--')\n",
    "plt.xlim([-0.1,1.2])\n",
    "plt.ylim([-0.1,1.2])\n",
    "plt.ylabel('True Positive Rate')\n",
    "plt.xlabel('False Positive Rate')\n",
    "plt.show()"
   ]
  },
  {
   "cell_type": "code",
   "execution_count": 453,
   "metadata": {
    "hideCode": false,
    "hidePrompt": false
   },
   "outputs": [
    {
     "name": "stdout",
     "output_type": "stream",
     "text": [
      "AUC Score: 96.3980184386973 %\n"
     ]
    }
   ],
   "source": [
    "print('AUC Score:' , roc_auc_score(test_label, rf_pred_proba) * 100, \"%\")"
   ]
  },
  {
   "cell_type": "code",
   "execution_count": 454,
   "metadata": {},
   "outputs": [
    {
     "data": {
      "image/png": "[encoded data removed]",
      "text/plain": [
       "<matplotlib.figure.Figure at 0x115d71470>"
      ]
     },
     "metadata": {},
     "output_type": "display_data"
    }
   ],
   "source": [
    "rf_cm = confusion_matrix(test_label, rf_predictions)\n",
    "plt.matshow(rf_cm, cmap='Pastel2')\n",
    "\n",
    "i = 0\n",
    "j = 0\n",
    "for i in range(rf_cm.shape[0]):\n",
    "    for j in range(rf_cm.shape[1]):\n",
    "        plt.text(i, j, rf_cm[j][i])\n",
    "\n",
    "plt.title('Random Forest Confusion Matrix', y=1.13)\n",
    "\n",
    "plt.colorbar()\n",
    "plt.ylabel('True label')\n",
    "plt.xlabel('Predicted label')\n",
    "plt.show()    "
   ]
  },
  {
   "cell_type": "code",
   "execution_count": 455,
   "metadata": {},
   "outputs": [
    {
     "name": "stdout",
     "output_type": "stream",
     "text": [
      "True Positive 181\n",
      "True Negative 1440\n",
      "False Positive 0\n",
      "False Negative 51\n",
      "GNB Precision: 1.0\n",
      "GNB Specificity: 1.0\n"
     ]
    }
   ],
   "source": [
    "rf_TP = rf_cm[1, 1]\n",
    "rf_TN = rf_cm[0, 0]\n",
    "rf_FP = rf_cm[0, 1]\n",
    "rf_FN = rf_cm[1, 0]\n",
    "\n",
    "print('True Positive', rf_TP)\n",
    "print('True Negative', rf_TN)\n",
    "print('False Positive', rf_FP)\n",
    "print('False Negative', rf_FN)\n",
    "\n",
    "print(\"GNB Precision:\", precision_score(test_label, rf_predictions))\n",
    "\n",
    "rf_specificity = rf_TN / float(rf_TN + rf_FP)\n",
    "print(\"GNB Specificity:\", rf_specificity)"
   ]
  },
  {
   "cell_type": "markdown",
   "metadata": {
    "hideCode": false,
    "hidePrompt": false
   },
   "source": [
    "# Create a Model Using Logistic Regression"
   ]
  },
  {
   "cell_type": "code",
   "execution_count": 456,
   "metadata": {
    "hideCode": false,
    "hidePrompt": false
   },
   "outputs": [],
   "source": [
    "lr = LogisticRegression()\n",
    "\n",
    "lr.fit(train_feat_cv, train_label)\n",
    "lr_predictions = lr.predict(test_feat_cv)\n",
    "lr_pred_proba = lr.predict_proba(test_feat_cv)[:, 1]"
   ]
  },
  {
   "cell_type": "code",
   "execution_count": 457,
   "metadata": {
    "hideCode": false,
    "hidePrompt": false
   },
   "outputs": [
    {
     "data": {
      "image/png": "[encoded data removed]",
      "text/plain": [
       "<matplotlib.figure.Figure at 0x115605a20>"
      ]
     },
     "metadata": {},
     "output_type": "display_data"
    }
   ],
   "source": [
    "lr_fpr, lr_tpr, lr_thresholds = roc_curve(test_label, lr_pred_proba)\n",
    "plt.plot(lr_fpr, lr_tpr)\n",
    "plt.plot([0,1],[0,1],'r--')\n",
    "plt.xlim([-0.1,1.2])\n",
    "plt.ylim([-0.1,1.2])\n",
    "plt.ylabel('True Positive Rate')\n",
    "plt.xlabel('False Positive Rate')\n",
    "plt.show()"
   ]
  },
  {
   "cell_type": "code",
   "execution_count": 458,
   "metadata": {},
   "outputs": [
    {
     "name": "stdout",
     "output_type": "stream",
     "text": [
      "AUC Score: 98.19085249042145 %\n"
     ]
    }
   ],
   "source": [
    "print('AUC Score:' , roc_auc_score(test_label, lr_pred_proba) * 100, \"%\")"
   ]
  },
  {
   "cell_type": "code",
   "execution_count": 459,
   "metadata": {},
   "outputs": [
    {
     "data": {
      "image/png": "[encoded data removed]",
      "text/plain": [
       "<matplotlib.figure.Figure at 0x1157d6908>"
      ]
     },
     "metadata": {},
     "output_type": "display_data"
    }
   ],
   "source": [
    "lr_cm = confusion_matrix(test_label, lr_predictions)\n",
    "plt.matshow(lr_cm, cmap='Pastel2')\n",
    "\n",
    "i = 0\n",
    "j = 0\n",
    "for i in range(lr_cm.shape[0]):\n",
    "    for j in range(lr_cm.shape[1]):\n",
    "        plt.text(i, j, lr_cm[j][i])\n",
    "\n",
    "plt.title('Random Forest Confusion Matrix', y=1.13)\n",
    "\n",
    "plt.colorbar()\n",
    "plt.ylabel('True label')\n",
    "plt.xlabel('Predicted label')\n",
    "plt.show()    "
   ]
  },
  {
   "cell_type": "code",
   "execution_count": 404,
   "metadata": {},
   "outputs": [
    {
     "name": "stdout",
     "output_type": "stream",
     "text": [
      "True Positive 149\n",
      "True Negative 1444\n",
      "False Positive 3\n",
      "False Negative 76\n",
      "GNB Precision: 0.9802631578947368\n",
      "GNB Specificity: 0.9979267449896337\n"
     ]
    }
   ],
   "source": [
    "lr_TP = lr_cm[1, 1]\n",
    "lr_TN = lr_cm[0, 0]\n",
    "lr_FP = lr_cm[0, 1]\n",
    "lr_FN = lr_cm[1, 0]\n",
    "\n",
    "print('True Positive', lr_TP)\n",
    "print('True Negative', lr_TN)\n",
    "print('False Positive', lr_FP)\n",
    "print('False Negative', lr_FN)\n",
    "\n",
    "print(\"GNB Precision:\", precision_score(test_label, lr_predictions))\n",
    "\n",
    "lr_specificity = lr_TN / float(lr_TN + lr_FP)\n",
    "print(\"GNB Specificity:\", lr_specificity)"
   ]
  },
  {
   "cell_type": "markdown",
   "metadata": {
    "hideCode": false,
    "hidePrompt": false
   },
   "source": [
    "# Performance Comparision"
   ]
  },
  {
   "cell_type": "code",
   "execution_count": null,
   "metadata": {},
   "outputs": [],
   "source": []
  }
 ],
 "metadata": {
  "hide_code_all_hidden": false,
  "kernelspec": {
   "display_name": "Python 3",
   "language": "python",
   "name": "python3"
  },
  "language_info": {
   "codemirror_mode": {
    "name": "ipython",
    "version": 3
   },
   "file_extension": ".py",
   "mimetype": "text/x-python",
   "name": "python",
   "nbconvert_exporter": "python",
   "pygments_lexer": "ipython3",
   "version": "3.6.4"
  }
 },
 "nbformat": 4,
 "nbformat_minor": 2
}
