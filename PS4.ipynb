{
 "cells": [
  {
   "cell_type": "markdown",
   "metadata": {
    "hideCode": false,
    "hidePrompt": false
   },
   "source": [
    "# Setup Notebook"
   ]
  },
  {
   "cell_type": "code",
   "execution_count": 1,
   "metadata": {
    "hideCode": false,
    "hidePrompt": false
   },
   "outputs": [],
   "source": [
    "import IPython\n",
    "import numpy as np\n",
    "import pandas as pd\n",
    "import matplotlib\n",
    "from sklearn.feature_extraction.text import TfidfVectorizer\n",
    "from sklearn.model_selection import train_test_split\n",
    "from sklearn.metrics import accuracy_score\n",
    "\n",
    "from sklearn.naive_bayes import MultinomialNB\n",
    "from sklearn.ensemble import RandomForestClassifier\n",
    "from sklearn.linear_model import LogisticRegression\n",
    "\n",
    "from sklearn.metrics import auc, roc_auc_score, roc_curve\n",
    "from sklearn.metrics import confusion_matrix\n",
    "from sklearn.metrics import precision_score\n",
    "\n",
    "import matplotlib.pyplot as plt\n",
    "import random"
   ]
  },
  {
   "cell_type": "markdown",
   "metadata": {
    "hideCode": false,
    "hidePrompt": false
   },
   "source": [
    "# Data Preparation"
   ]
  },
  {
   "cell_type": "code",
   "execution_count": 2,
   "metadata": {
    "hideCode": false,
    "hidePrompt": false
   },
   "outputs": [],
   "source": [
    "# load data\n",
    "msg_df = pd.read_csv('spam.csv', encoding='cp1252')\n",
    "msg_df = msg_df.drop(msg_df.columns[[2, 3, 4]], axis=1)"
   ]
  },
  {
   "cell_type": "code",
   "execution_count": 3,
   "metadata": {
    "hideCode": false,
    "hidePrompt": false
   },
   "outputs": [
    {
     "data": {
      "text/html": [
       "<div>\n",
       "<style scoped>\n",
       "    .dataframe tbody tr th:only-of-type {\n",
       "        vertical-align: middle;\n",
       "    }\n",
       "\n",
       "    .dataframe tbody tr th {\n",
       "        vertical-align: top;\n",
       "    }\n",
       "\n",
       "    .dataframe thead th {\n",
       "        text-align: right;\n",
       "    }\n",
       "</style>\n",
       "<table border=\"1\" class=\"dataframe\">\n",
       "  <thead>\n",
       "    <tr style=\"text-align: right;\">\n",
       "      <th></th>\n",
       "      <th>v1</th>\n",
       "      <th>v2</th>\n",
       "    </tr>\n",
       "  </thead>\n",
       "  <tbody>\n",
       "    <tr>\n",
       "      <th>0</th>\n",
       "      <td>ham</td>\n",
       "      <td>Go until jurong point, crazy.. Available only ...</td>\n",
       "    </tr>\n",
       "    <tr>\n",
       "      <th>1</th>\n",
       "      <td>ham</td>\n",
       "      <td>Ok lar... Joking wif u oni...</td>\n",
       "    </tr>\n",
       "    <tr>\n",
       "      <th>2</th>\n",
       "      <td>spam</td>\n",
       "      <td>Free entry in 2 a wkly comp to win FA Cup fina...</td>\n",
       "    </tr>\n",
       "    <tr>\n",
       "      <th>3</th>\n",
       "      <td>ham</td>\n",
       "      <td>U dun say so early hor... U c already then say...</td>\n",
       "    </tr>\n",
       "    <tr>\n",
       "      <th>4</th>\n",
       "      <td>ham</td>\n",
       "      <td>Nah I don't think he goes to usf, he lives aro...</td>\n",
       "    </tr>\n",
       "  </tbody>\n",
       "</table>\n",
       "</div>"
      ],
      "text/plain": [
       "     v1                                                 v2\n",
       "0   ham  Go until jurong point, crazy.. Available only ...\n",
       "1   ham                      Ok lar... Joking wif u oni...\n",
       "2  spam  Free entry in 2 a wkly comp to win FA Cup fina...\n",
       "3   ham  U dun say so early hor... U c already then say...\n",
       "4   ham  Nah I don't think he goes to usf, he lives aro..."
      ]
     },
     "execution_count": 3,
     "metadata": {},
     "output_type": "execute_result"
    }
   ],
   "source": [
    "msg_df.head()"
   ]
  },
  {
   "cell_type": "code",
   "execution_count": 26,
   "metadata": {
    "hideCode": false,
    "hidePrompt": false
   },
   "outputs": [
    {
     "data": {
      "text/plain": [
       "(5572, 2)"
      ]
     },
     "execution_count": 26,
     "metadata": {},
     "output_type": "execute_result"
    }
   ],
   "source": [
    "# converting label to 0s and 1s \n",
    "for index, row in msg_df.iterrows():\n",
    "        if row[\"v1\"] == \"ham\":\n",
    "            row[\"v1\"] = 0\n",
    "        else:\n",
    "            row[\"v1\"] = 1\n",
    "\n",
    "msg_df.head()\n",
    "msg_df.shape"
   ]
  },
  {
   "cell_type": "code",
   "execution_count": 5,
   "metadata": {
    "hideCode": false,
    "hidePrompt": false
   },
   "outputs": [],
   "source": [
    "# split data into feature and labels\n",
    "label = msg_df['v1']\n",
    "feature = msg_df['v2']"
   ]
  },
  {
   "cell_type": "code",
   "execution_count": 6,
   "metadata": {
    "hideCode": false,
    "hidePrompt": false
   },
   "outputs": [],
   "source": [
    "# split the data into training and testing (30% split)\n",
    "train_feature, test_feature, train_label, test_label = train_test_split(feature, label, test_size = 0.3)\n",
    "\n",
    "# uses TF-IDF to identify the features we will be using\n",
    "cv = TfidfVectorizer(min_df = 1, stop_words=\"english\")\n",
    "train_feat_cv = cv.fit_transform(train_feature).toarray()\n",
    "train_label = train_label.astype('int')\n",
    "\n",
    "test_feat_cv = cv.transform(test_feature).toarray()\n",
    "test_label = test_label.astype('int')"
   ]
  },
  {
   "cell_type": "markdown",
   "metadata": {
    "hideCode": false,
    "hidePrompt": false
   },
   "source": [
    "# Gaussian Naives Bayes Classifier"
   ]
  },
  {
   "cell_type": "code",
   "execution_count": 7,
   "metadata": {
    "hideCode": false,
    "hidePrompt": false
   },
   "outputs": [],
   "source": [
    "# create the classifier\n",
    "mnb = MultinomialNB()\n",
    "\n",
    "# fit and make predictions based off of the fitted model\n",
    "mnb.fit(train_feat_cv, train_label)\n",
    "mnb_predictions = mnb.predict(test_feat_cv)\n",
    "mnb_pred_proba = mnb.predict_proba(test_feat_cv)[:, 1]"
   ]
  },
  {
   "cell_type": "code",
   "execution_count": 8,
   "metadata": {
    "hideCode": false,
    "hidePrompt": false
   },
   "outputs": [
    {
     "data": {
      "image/png": "[encoded data removed]",
      "text/plain": [
       "<matplotlib.figure.Figure at 0x10245ce10>"
      ]
     },
     "metadata": {},
     "output_type": "display_data"
    }
   ],
   "source": [
    "# plot the ROC Curve\n",
    "mnb_fpr, mnb_tpr, mnb_thresholds = roc_curve(test_label, mnb_pred_proba)\n",
    "plt.plot(mnb_fpr, mnb_tpr)\n",
    "plt.plot([0,1],[0,1],'r--')\n",
    "plt.title(\"GNB ROC Curve\")\n",
    "plt.xlim([-0.1,1.2])\n",
    "plt.ylim([-0.1,1.2])\n",
    "plt.ylabel('True Positive Rate')\n",
    "plt.xlabel('False Positive Rate')\n",
    "plt.show()"
   ]
  },
  {
   "cell_type": "code",
   "execution_count": 9,
   "metadata": {
    "hideCode": false,
    "hidePrompt": false
   },
   "outputs": [
    {
     "name": "stdout",
     "output_type": "stream",
     "text": [
      "AUC Score: 0.9895014861721374\n"
     ]
    }
   ],
   "source": [
    "print('AUC Score:' , roc_auc_score(test_label, mnb_pred_proba))"
   ]
  },
  {
   "cell_type": "code",
   "execution_count": 10,
   "metadata": {},
   "outputs": [
    {
     "name": "stdout",
     "output_type": "stream",
     "text": [
      "Accuracy Score: 0.97188995215311\n"
     ]
    }
   ],
   "source": [
    "print('Accuracy Score:', accuracy_score(test_label, mnb_predictions))"
   ]
  },
  {
   "cell_type": "code",
   "execution_count": 11,
   "metadata": {},
   "outputs": [
    {
     "data": {
      "image/png": "[encoded data removed]",
      "text/plain": [
       "<matplotlib.figure.Figure at 0x10361a9e8>"
      ]
     },
     "metadata": {},
     "output_type": "display_data"
    }
   ],
   "source": [
    "# create and plot the confusion matrix\n",
    "mnb_cm = confusion_matrix(test_label, mnb_predictions)\n",
    "\n",
    "plt.matshow(mnb_cm, cmap='Pastel2')\n",
    "\n",
    "i = 0\n",
    "j = 0\n",
    "for i in range(mnb_cm.shape[0]):\n",
    "    for j in range(mnb_cm.shape[1]):\n",
    "        plt.text(i, j, mnb_cm[j][i])\n",
    "\n",
    "plt.title('Gausian NB Confusion Matrix', y=1.13)\n",
    "\n",
    "plt.colorbar()\n",
    "plt.ylabel('True label')\n",
    "plt.xlabel('Predicted label')\n",
    "plt.show()    "
   ]
  },
  {
   "cell_type": "code",
   "execution_count": 12,
   "metadata": {},
   "outputs": [
    {
     "name": "stdout",
     "output_type": "stream",
     "text": [
      "True Positive 165\n",
      "True Negative 1460\n",
      "False Positive 0\n",
      "False Negative 47\n",
      "\n",
      "MNB Precision: 1.0\n",
      "MNB Specificity: 1.0\n"
     ]
    }
   ],
   "source": [
    "# stored the values in the confusion matrix into variables\n",
    "mnb_TP = mnb_cm[1, 1]\n",
    "mnb_TN = mnb_cm[0, 0]\n",
    "mnb_FP = mnb_cm[0, 1]\n",
    "mnb_FN = mnb_cm[1, 0]\n",
    "\n",
    "print('True Positive', mnb_TP)\n",
    "print('True Negative', mnb_TN)\n",
    "print('False Positive', mnb_FP)\n",
    "print('False Negative', mnb_FN)\n",
    "print(\"\")\n",
    "\n",
    "# calculate Precision and Specificity\n",
    "print(\"MNB Precision:\", precision_score(test_label, mnb_predictions))\n",
    "mnb_specificity = mnb_TN / float(mnb_TN + mnb_FP)\n",
    "print(\"MNB Specificity:\", mnb_specificity)"
   ]
  },
  {
   "cell_type": "markdown",
   "metadata": {
    "hideCode": false,
    "hidePrompt": false
   },
   "source": [
    "# Random Forests"
   ]
  },
  {
   "cell_type": "code",
   "execution_count": 13,
   "metadata": {
    "hideCode": false,
    "hidePrompt": false
   },
   "outputs": [],
   "source": [
    "# create the classifier\n",
    "rf = RandomForestClassifier()\n",
    "\n",
    "# fit and make predictions based off of the fitted model\n",
    "rf.fit(train_feat_cv, train_label)\n",
    "rf_predictions = rf.predict(test_feat_cv)\n",
    "rf_pred_proba = rf.predict_proba(test_feat_cv)[:, 1]"
   ]
  },
  {
   "cell_type": "code",
   "execution_count": 14,
   "metadata": {},
   "outputs": [
    {
     "data": {
      "image/png": "[encoded data removed]",
      "text/plain": [
       "<matplotlib.figure.Figure at 0x10e472fd0>"
      ]
     },
     "metadata": {},
     "output_type": "display_data"
    }
   ],
   "source": [
    "# plot the ROC Curve\n",
    "rf_fpr, rf_tpr, rf_thresholds = roc_curve(test_label, rf_pred_proba)\n",
    "plt.plot(rf_fpr, rf_tpr)\n",
    "plt.plot([0,1],[0,1],'r--')\n",
    "plt.title(\"RF ROC Curve\")\n",
    "plt.xlim([-0.1,1.2])\n",
    "plt.ylim([-0.1,1.2])\n",
    "plt.ylabel('True Positive Rate')\n",
    "plt.xlabel('False Positive Rate')\n",
    "plt.show()"
   ]
  },
  {
   "cell_type": "code",
   "execution_count": 15,
   "metadata": {
    "hideCode": false,
    "hidePrompt": false
   },
   "outputs": [
    {
     "name": "stdout",
     "output_type": "stream",
     "text": [
      "AUC Score: 98.56907469630396 %\n"
     ]
    }
   ],
   "source": [
    "print('AUC Score:' , roc_auc_score(test_label, rf_pred_proba) * 100, \"%\")"
   ]
  },
  {
   "cell_type": "code",
   "execution_count": 16,
   "metadata": {},
   "outputs": [
    {
     "name": "stdout",
     "output_type": "stream",
     "text": [
      "Accuracy Score:  0.97188995215311\n"
     ]
    }
   ],
   "source": [
    "print('Accuracy Score: ', accuracy_score(test_label, mnb_predictions))"
   ]
  },
  {
   "cell_type": "code",
   "execution_count": 17,
   "metadata": {},
   "outputs": [
    {
     "data": {
      "image/png": "[encoded data removed]",
      "text/plain": [
       "<matplotlib.figure.Figure at 0x10e4e1940>"
      ]
     },
     "metadata": {},
     "output_type": "display_data"
    }
   ],
   "source": [
    "# create and plot the confusion matrix\n",
    "rf_cm = confusion_matrix(test_label, rf_predictions)\n",
    "plt.matshow(rf_cm, cmap='Pastel2')\n",
    "\n",
    "i = 0\n",
    "j = 0\n",
    "for i in range(rf_cm.shape[0]):\n",
    "    for j in range(rf_cm.shape[1]):\n",
    "        plt.text(i, j, rf_cm[j][i])\n",
    "\n",
    "plt.title('Random Forest Confusion Matrix', y=1.13)\n",
    "\n",
    "plt.colorbar()\n",
    "plt.ylabel('True label')\n",
    "plt.xlabel('Predicted label')\n",
    "plt.show()    "
   ]
  },
  {
   "cell_type": "code",
   "execution_count": 18,
   "metadata": {},
   "outputs": [
    {
     "name": "stdout",
     "output_type": "stream",
     "text": [
      "True Positive 166\n",
      "True Negative 1459\n",
      "False Positive 1\n",
      "False Negative 46\n",
      "\n",
      "RF Precision: 0.9940119760479041\n",
      "RF Specificity: 0.9993150684931507\n"
     ]
    }
   ],
   "source": [
    "# stored the values in the confusion matrix into variables\n",
    "rf_TP = rf_cm[1, 1]\n",
    "rf_TN = rf_cm[0, 0]\n",
    "rf_FP = rf_cm[0, 1]\n",
    "rf_FN = rf_cm[1, 0]\n",
    "\n",
    "print('True Positive', rf_TP)\n",
    "print('True Negative', rf_TN)\n",
    "print('False Positive', rf_FP)\n",
    "print('False Negative', rf_FN)\n",
    "print('')\n",
    "\n",
    "# calculate Precision and Specificity\n",
    "print(\"RF Precision:\", precision_score(test_label, rf_predictions))\n",
    "rf_specificity = rf_TN / float(rf_TN + rf_FP)\n",
    "print(\"RF Specificity:\", rf_specificity)"
   ]
  },
  {
   "cell_type": "markdown",
   "metadata": {
    "hideCode": false,
    "hidePrompt": false
   },
   "source": [
    "# Logistic Regression"
   ]
  },
  {
   "cell_type": "code",
   "execution_count": 27,
   "metadata": {
    "hideCode": false,
    "hidePrompt": false
   },
   "outputs": [],
   "source": [
    "# create the classifier\n",
    "lr = LogisticRegression()\n",
    "\n",
    "# fit and make predictions based off of the fitted model\n",
    "lr.fit(train_feat_cv, train_label)\n",
    "lr_predictions = lr.predict(test_feat_cv)\n",
    "lr_pred_proba = lr.predict_proba(test_feat_cv)[:, 1]"
   ]
  },
  {
   "cell_type": "code",
   "execution_count": 28,
   "metadata": {
    "hideCode": false,
    "hidePrompt": false
   },
   "outputs": [
    {
     "data": {
      "image/png": "[encoded data removed]",
      "text/plain": [
       "<matplotlib.figure.Figure at 0x108cf0390>"
      ]
     },
     "metadata": {},
     "output_type": "display_data"
    }
   ],
   "source": [
    "# plot the ROC Curve\n",
    "lr_fpr, lr_tpr, lr_thresholds = roc_curve(test_label, lr_pred_proba)\n",
    "plt.plot(lr_fpr, lr_tpr)\n",
    "plt.title(\"LR ROC Curve\")\n",
    "plt.plot([0,1],[0,1],'r--')\n",
    "plt.xlim([-0.1,1.2])\n",
    "plt.ylim([-0.1,1.2])\n",
    "plt.ylabel('True Positive Rate')\n",
    "plt.xlabel('False Positive Rate')\n",
    "plt.show()"
   ]
  },
  {
   "cell_type": "code",
   "execution_count": 29,
   "metadata": {},
   "outputs": [
    {
     "name": "stdout",
     "output_type": "stream",
     "text": [
      "AUC Score: 99.16467433445334 %\n"
     ]
    }
   ],
   "source": [
    "print('AUC Score:' , roc_auc_score(test_label, lr_pred_proba) * 100, \"%\")"
   ]
  },
  {
   "cell_type": "code",
   "execution_count": 30,
   "metadata": {},
   "outputs": [
    {
     "name": "stdout",
     "output_type": "stream",
     "text": [
      "Accuracy Score: 0.9569377990430622\n"
     ]
    }
   ],
   "source": [
    "print('Accuracy Score:', accuracy_score(test_label, lr_predictions))"
   ]
  },
  {
   "cell_type": "code",
   "execution_count": 22,
   "metadata": {},
   "outputs": [
    {
     "data": {
      "image/png": "[encoded data removed]",
      "text/plain": [
       "<matplotlib.figure.Figure at 0x10e697160>"
      ]
     },
     "metadata": {},
     "output_type": "display_data"
    }
   ],
   "source": [
    "# create and plot the confusion matrix\n",
    "lr_cm = confusion_matrix(test_label, lr_predictions)\n",
    "plt.matshow(lr_cm, cmap='Pastel2')\n",
    "\n",
    "i = 0\n",
    "j = 0\n",
    "for i in range(lr_cm.shape[0]):\n",
    "    for j in range(lr_cm.shape[1]):\n",
    "        plt.text(i, j, lr_cm[j][i])\n",
    "\n",
    "plt.title('Logistic Regression Confusion Matrix', y=1.13)\n",
    "plt.colorbar()\n",
    "plt.ylabel('True label')\n",
    "plt.xlabel('Predicted label')\n",
    "plt.show()    "
   ]
  },
  {
   "cell_type": "code",
   "execution_count": 23,
   "metadata": {},
   "outputs": [
    {
     "name": "stdout",
     "output_type": "stream",
     "text": [
      "True Positive 145\n",
      "True Negative 1455\n",
      "False Positive 5\n",
      "False Negative 67\n",
      "\n",
      "LR Precision: 0.9666666666666667\n",
      "LR Specificity: 0.9965753424657534\n"
     ]
    }
   ],
   "source": [
    "# stored the values in the confusion matrix into variables\n",
    "lr_TP = lr_cm[1, 1]\n",
    "lr_TN = lr_cm[0, 0]\n",
    "lr_FP = lr_cm[0, 1]\n",
    "lr_FN = lr_cm[1, 0]\n",
    "\n",
    "print('True Positive', lr_TP)\n",
    "print('True Negative', lr_TN)\n",
    "print('False Positive', lr_FP)\n",
    "print('False Negative', lr_FN)\n",
    "print(\"\")\n",
    "\n",
    "# calculate Precision and Specificity\n",
    "print(\"LR Precision:\", precision_score(test_label, lr_predictions))\n",
    "lr_specificity = lr_TN / float(lr_TN + lr_FP)\n",
    "print(\"LR Specificity:\", lr_specificity)"
   ]
  }
 ],
 "metadata": {
  "hide_code_all_hidden": false,
  "kernelspec": {
   "display_name": "Python 3",
   "language": "python",
   "name": "python3"
  },
  "language_info": {
   "codemirror_mode": {
    "name": "ipython",
    "version": 3
   },
   "file_extension": ".py",
   "mimetype": "text/x-python",
   "name": "python",
   "nbconvert_exporter": "python",
   "pygments_lexer": "ipython3",
   "version": "3.6.4"
  }
 },
 "nbformat": 4,
 "nbformat_minor": 2
}
